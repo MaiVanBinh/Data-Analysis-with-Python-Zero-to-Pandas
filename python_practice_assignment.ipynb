{
  "cells": [
    {
      "cell_type": "markdown",
      "metadata": {
        "id": "view-in-github",
        "colab_type": "text"
      },
      "source": [
        "<a href=\"https://colab.research.google.com/github/MaiVanBinh/Data-Analysis-with-Python-Zero-to-Pandas/blob/main/python_practice_assignment.ipynb\" target=\"_parent\"><img src=\"https://colab.research.google.com/assets/colab-badge.svg\" alt=\"Open In Colab\"/></a>"
      ]
    },
    {
      "cell_type": "code",
      "execution_count": null,
      "metadata": {
        "id": "zboHszHKoyF2"
      },
      "outputs": [],
      "source": [
        "# Jovian Commit Essentials\n",
        "# Please retain and execute this cell without modifying the contents for `jovian.commit` to work\n",
        "!pip install jovian --upgrade -q\n",
        "import jovian\n",
        "jovian.set_project('python-practice-assignment')\n",
        "jovian.set_colab_id('1l-Ug748DlUbhoDsgckUHX_fOFKvEHjhM')"
      ]
    },
    {
      "cell_type": "markdown",
      "metadata": {
        "id": "ZsmpKkoYoyF6"
      },
      "source": [
        "# Assignment 1 - Python Basics Practice\n",
        "\n",
        "*This assignment is a part of the course [\"Data Analysis with Python: Zero to Pandas\"](https://jovian.ml/learn/data-analysis-with-python-zero-to-pandas)*\n",
        "\n",
        "In this assignment, you'll get to practice some of the concepts and skills covered in the following notebooks:\n",
        "\n",
        "1. [First Steps with Python and Jupyter](https://jovian.ml/aakashns/first-steps-with-python)\n",
        "2. [A Quick Tour of Variables and Data Types](https://jovian.ml/aakashns/python-variables-and-data-types)\n",
        "3. [Branching using Conditional Statements and Loops](https://jovian.ml/aakashns/python-branching-and-loops)\n",
        "\n",
        "\n",
        "As you go through this notebook, you will find the symbol **???** in certain places. To complete this assignment, you must replace all the **???** with appropriate values, expressions or statements to ensure that the notebook runs properly end-to-end. \n",
        "\n",
        "**Guidelines**\n",
        "\n",
        "1. Make sure to run all the code cells, otherwise you may get errors like `NameError` for undefined variables.\n",
        "2. Do not change variable names, delete cells or disturb other existing code. It may cause problems during evaluation.\n",
        "3. In some cases, you may need to add some code cells or new statements before or after the line of code containing the **???**. \n",
        "4. Since you'll be using a free online service for code execution, save your work by running `jovian.commit` at regular intervals.\n",
        "5. Questions marked **(Optional)** will not be considered for evaluation, and can be skipped. They are for your learning.\n",
        "6. If you are stuck, you can ask for help on the course forum. Post errors, ask for hints and help others, but **please don't share the full solution answer code** to give others a chance to write the code themselves.\n",
        "7. After submission your code will be tested with some hidden test cases. Make sure to test your code exhaustively to cover all edge cases.\n",
        "\n",
        "\n",
        "Important Links:\n",
        "\n",
        "* Make submissions here: https://jovian.ml/learn/data-analysis-with-python-zero-to-pandas/assignment/assignment-1-python-basics-practice\n",
        "\n",
        "* Get help on the community forum: https://jovian.ml/forum/t/assignment-1-python-practice/7761 . You can get help with errors or ask for hints, but **please don't ask for or share the full working answer code** on the forum.\n"
      ]
    },
    {
      "cell_type": "markdown",
      "metadata": {
        "id": "QNXMfmMGoyF7"
      },
      "source": [
        "### How to Run the Code and Save Your Work\n",
        "\n",
        "**Option 1: Running using free online resources (1-click, recommended)**: Click the **Run** button at the top of this page and select **Run on Binder**. You can also select \"Run on Colab\" or \"Run on Kaggle\", but you'll need to create an account on [Google Colab](https://colab.research.google.com) or [Kaggle](https://kaggle.com) to use these platforms.\n",
        "\n",
        "\n",
        "**Option 2: Running on your computer locally**: To run the code on your computer locally, you'll need to set up [Python](https://www.python.org) & [Conda](https://docs.conda.io/projects/conda/en/latest/user-guide/install/), download the notebook and install the required libraries. Click the **Run** button at the top of this page, select the **Run Locally** option, and follow the instructions.\n",
        "\n",
        "**Saving your work**: You can save a snapshot of the assignment to your [Jovian](https://jovian.ai) profile, so that you can access it later and continue your work. Keep saving your work by running `jovian.commit` from time to time."
      ]
    },
    {
      "cell_type": "code",
      "execution_count": 1,
      "metadata": {
        "colab": {
          "base_uri": "https://localhost:8080/"
        },
        "id": "1U_4H9tboyF8",
        "outputId": "4acfcc90-bf6c-4fa2-cf50-3d10ada6963c"
      },
      "outputs": [
        {
          "output_type": "stream",
          "name": "stdout",
          "text": [
            "\u001b[?25l\r\u001b[K     |████▊                           | 10 kB 29.8 MB/s eta 0:00:01\r\u001b[K     |█████████▌                      | 20 kB 39.1 MB/s eta 0:00:01\r\u001b[K     |██████████████▎                 | 30 kB 33.8 MB/s eta 0:00:01\r\u001b[K     |███████████████████             | 40 kB 22.0 MB/s eta 0:00:01\r\u001b[K     |███████████████████████▉        | 51 kB 11.9 MB/s eta 0:00:01\r\u001b[K     |████████████████████████████▋   | 61 kB 13.6 MB/s eta 0:00:01\r\u001b[K     |████████████████████████████████| 68 kB 4.3 MB/s \n",
            "\u001b[?25h  Building wheel for uuid (setup.py) ... \u001b[?25l\u001b[?25hdone\n"
          ]
        }
      ],
      "source": [
        "# Install the library\n",
        "!pip install jovian --upgrade --quiet"
      ]
    },
    {
      "cell_type": "code",
      "execution_count": 2,
      "metadata": {
        "id": "HdjZICRsoyF9"
      },
      "outputs": [],
      "source": [
        "# Import it\n",
        "import jovian"
      ]
    },
    {
      "cell_type": "code",
      "execution_count": 3,
      "metadata": {
        "id": "vDtzBTauoyF9"
      },
      "outputs": [],
      "source": [
        "project_name='python-practice-assignment'"
      ]
    },
    {
      "cell_type": "code",
      "execution_count": 4,
      "metadata": {
        "colab": {
          "base_uri": "https://localhost:8080/"
        },
        "id": "m0d33BLxoyF-",
        "outputId": "12735c97-5f8b-4bb8-92c4-f499266860f2"
      },
      "outputs": [
        {
          "output_type": "stream",
          "name": "stdout",
          "text": [
            "[jovian] Detected Colab notebook...\u001b[0m\n"
          ]
        },
        {
          "output_type": "stream",
          "name": "stderr",
          "text": [
            "\u001b[31m[jovian] Error: jovian.commit doesn't work on Colab unless the notebook was created and executed from Jovian.\n",
            "Make sure to run the first code cell at the top after executing from Jovian.\n",
            "Alternatively, you can download this notebook and upload it manually to Jovian.\n",
            "Learn more: https://jovian.ai/docs/user-guide/run.html#run-on-colab\u001b[0m\n"
          ]
        }
      ],
      "source": [
        "# Capture and upload a snapshot\n",
        "jovian.commit(project=project_name, privacy='secret', evironment=None)"
      ]
    },
    {
      "cell_type": "markdown",
      "metadata": {
        "id": "QOIHo5StoyF_"
      },
      "source": [
        "You'll be asked to provide an API Key, to securely upload the notebook to your Jovian.ml account. You can get the API key from your Jovian.ml profile page after logging in / signing up. See the docs for details: https://jovian.ml/docs/user-guide/upload.html . The privacy of your assignment notebook is set to *Secret*, so that you can the evlauators can access it, but it will not shown on your public profile to other users."
      ]
    },
    {
      "cell_type": "markdown",
      "metadata": {
        "id": "5QHC1tLGoyGA"
      },
      "source": [
        "## Problem 1 - Variables and Data Types\n",
        "\n",
        "**Q1: Assign your name to the variable `name`.**"
      ]
    },
    {
      "cell_type": "code",
      "execution_count": 5,
      "metadata": {
        "id": "quI4x1c3oyGB"
      },
      "outputs": [],
      "source": [
        "name = \"Mai Van Binh\""
      ]
    },
    {
      "cell_type": "markdown",
      "metadata": {
        "id": "2LwambxpoyGB"
      },
      "source": [
        "**Q2: Assign your age (real or fake) to the variable `age`.**"
      ]
    },
    {
      "cell_type": "code",
      "execution_count": 6,
      "metadata": {
        "id": "KgIcUuBroyGB"
      },
      "outputs": [],
      "source": [
        "age = \"21\""
      ]
    },
    {
      "cell_type": "markdown",
      "metadata": {
        "id": "SdtegtZyoyGC"
      },
      "source": [
        "**Q3: Assign a boolean value to the variable `has_android_phone`.**"
      ]
    },
    {
      "cell_type": "code",
      "execution_count": 7,
      "metadata": {
        "id": "_lmwaZR7oyGC"
      },
      "outputs": [],
      "source": [
        "has_android_phone = True"
      ]
    },
    {
      "cell_type": "markdown",
      "metadata": {
        "id": "BOyi68_UoyGC"
      },
      "source": [
        "You can check the values of these variables by running the next cell."
      ]
    },
    {
      "cell_type": "code",
      "execution_count": 8,
      "metadata": {
        "colab": {
          "base_uri": "https://localhost:8080/"
        },
        "id": "y8cjWzjyoyGC",
        "outputId": "bac90369-a603-47a3-c085-3c6d0323e5c9"
      },
      "outputs": [
        {
          "output_type": "execute_result",
          "data": {
            "text/plain": [
              "('Mai Van Binh', '21', True)"
            ]
          },
          "metadata": {},
          "execution_count": 8
        }
      ],
      "source": [
        "name, age, has_android_phone"
      ]
    },
    {
      "cell_type": "markdown",
      "metadata": {
        "id": "yxh0i9_eoyGD"
      },
      "source": [
        "**Q4: Create a dictionary `person` with keys `\"Name\"`, `\"Age\"`, `\"HasAndroidPhone\"` and values using the variables defined above.**"
      ]
    },
    {
      "cell_type": "code",
      "execution_count": 11,
      "metadata": {
        "id": "rZnfqrYyoyGD"
      },
      "outputs": [],
      "source": [
        "person = { \"Name\": name, \"Age\": age, \"HasAndroidPhone\": has_android_phone}"
      ]
    },
    {
      "cell_type": "markdown",
      "metadata": {
        "id": "QuHo_gD6oyGD"
      },
      "source": [
        "Let's use the `person` dictionary to print a nice message."
      ]
    },
    {
      "cell_type": "code",
      "execution_count": 12,
      "metadata": {
        "colab": {
          "base_uri": "https://localhost:8080/"
        },
        "id": "1h-2JgXNoyGD",
        "outputId": "d937b91f-7fd5-4058-df12-0c97d89cb902"
      },
      "outputs": [
        {
          "output_type": "stream",
          "name": "stdout",
          "text": [
            "Mai Van Binh is aged 21, and owns an Android phone.\n"
          ]
        }
      ],
      "source": [
        "print(\"{} is aged {}, and owns an {}.\".format(\n",
        "    person[\"Name\"], \n",
        "    person[\"Age\"], \n",
        "    \"Android phone\" if person[\"HasAndroidPhone\"] else \"iPhone\"\n",
        "))"
      ]
    },
    {
      "cell_type": "markdown",
      "metadata": {
        "id": "SGb_EdqQoyGE"
      },
      "source": [
        "**Q4b (Optional): Use a `for` loop to display the `type` of each value stored against each key in `person`.**\n",
        "\n",
        "Here's the expected output for the key `\"Name\"`: \n",
        "\n",
        "```\n",
        "The key \"Name\" has the value \"Derek\" of the type \"<class 'str'>\"\n",
        "```"
      ]
    },
    {
      "cell_type": "code",
      "execution_count": 15,
      "metadata": {
        "colab": {
          "base_uri": "https://localhost:8080/"
        },
        "id": "Jrw2PCDjoyGE",
        "outputId": "76b80612-646b-4d1c-c359-a4438b7dce36"
      },
      "outputs": [
        {
          "output_type": "stream",
          "name": "stdout",
          "text": [
            "The key \"Name\" has the value \"Mai Van Binh\" of the type \"<class 'str'>\"\n",
            "The key \"Age\" has the value \"21\" of the type \"<class 'str'>\"\n",
            "The key \"HasAndroidPhone\" has the value \"True\" of the type \"<class 'bool'>\"\n"
          ]
        }
      ],
      "source": [
        "# this is optional\n",
        "for key in person:\n",
        "  print(\"The key \\\"{}\\\" has the value \\\"{}\\\" of the type \\\"{}\\\"\".format(key, person[key], type(person[key])))"
      ]
    },
    {
      "cell_type": "markdown",
      "metadata": {
        "id": "FxMiJ4Y3oyGE"
      },
      "source": [
        "Now that you've solved one problem, it would be a good idea to record a snapshot of your notebook."
      ]
    },
    {
      "cell_type": "code",
      "execution_count": 16,
      "metadata": {
        "colab": {
          "base_uri": "https://localhost:8080/"
        },
        "id": "TSdgTNJRoyGE",
        "outputId": "3f697ce4-a85b-408e-e4ce-78ca19d7e3d6"
      },
      "outputs": [
        {
          "output_type": "stream",
          "name": "stdout",
          "text": [
            "[jovian] Detected Colab notebook...\u001b[0m\n"
          ]
        },
        {
          "output_type": "stream",
          "name": "stderr",
          "text": [
            "\u001b[31m[jovian] Error: jovian.commit doesn't work on Colab unless the notebook was created and executed from Jovian.\n",
            "Make sure to run the first code cell at the top after executing from Jovian.\n",
            "Alternatively, you can download this notebook and upload it manually to Jovian.\n",
            "Learn more: https://jovian.ai/docs/user-guide/run.html#run-on-colab\u001b[0m\n"
          ]
        }
      ],
      "source": [
        "jovian.commit(project=project_name,environment=None)"
      ]
    },
    {
      "cell_type": "markdown",
      "metadata": {
        "id": "YFbPlvmboyGE"
      },
      "source": [
        "## Problem 2 - Working with Lists\n",
        "\n",
        "**Q5: Create a list containing the following 3 elements:**\n",
        "\n",
        "* your favorite color\n",
        "* the number of pets you have\n",
        "* a boolean value describing whether you have previous programming experience\n"
      ]
    },
    {
      "cell_type": "code",
      "execution_count": 26,
      "metadata": {
        "id": "ENX6kVwnoyGE"
      },
      "outputs": [],
      "source": [
        "my_list = [\"White\", 0, True]"
      ]
    },
    {
      "cell_type": "markdown",
      "metadata": {
        "id": "49LpIoPBoyGF"
      },
      "source": [
        "Let's see what the list looks like:"
      ]
    },
    {
      "cell_type": "code",
      "execution_count": 27,
      "metadata": {
        "colab": {
          "base_uri": "https://localhost:8080/"
        },
        "id": "GXURWNGPoyGF",
        "outputId": "c30f5afa-8592-4772-8266-3aa5cefa5756"
      },
      "outputs": [
        {
          "output_type": "execute_result",
          "data": {
            "text/plain": [
              "['White', 0, True]"
            ]
          },
          "metadata": {},
          "execution_count": 27
        }
      ],
      "source": [
        "my_list"
      ]
    },
    {
      "cell_type": "markdown",
      "metadata": {
        "id": "RL7U8nnfoyGF"
      },
      "source": [
        "**Q6: Complete the following `print` and `if` statements by accessing the appropriate elements from `my_list`.**\n",
        "\n",
        "*Hint*: Use the list indexing notation `[]`."
      ]
    },
    {
      "cell_type": "code",
      "execution_count": 28,
      "metadata": {
        "colab": {
          "base_uri": "https://localhost:8080/"
        },
        "id": "XuW-aFNzoyGF",
        "outputId": "f44b67ea-5be5-4c65-e76d-1e273cf73ed2"
      },
      "outputs": [
        {
          "output_type": "stream",
          "name": "stdout",
          "text": [
            "My favorite color is White\n"
          ]
        }
      ],
      "source": [
        "print('My favorite color is', my_list[0])"
      ]
    },
    {
      "cell_type": "code",
      "execution_count": 29,
      "metadata": {
        "colab": {
          "base_uri": "https://localhost:8080/"
        },
        "id": "O-h3Bu32oyGF",
        "outputId": "bc864a01-a1f5-4099-b323-c2db2d191b09"
      },
      "outputs": [
        {
          "output_type": "stream",
          "name": "stdout",
          "text": [
            "I have 0 pet(s).\n"
          ]
        }
      ],
      "source": [
        "print('I have {} pet(s).'.format(my_list[1]))"
      ]
    },
    {
      "cell_type": "code",
      "execution_count": 30,
      "metadata": {
        "colab": {
          "base_uri": "https://localhost:8080/"
        },
        "id": "qOI1cbFAoyGF",
        "outputId": "405342fc-a551-4c7f-f697-0ad5b88265bf"
      },
      "outputs": [
        {
          "output_type": "stream",
          "name": "stdout",
          "text": [
            "I have previous programming experience\n"
          ]
        }
      ],
      "source": [
        "if my_list[2]:\n",
        "    print(\"I have previous programming experience\")\n",
        "else:\n",
        "    print(\"I do not have previous programming experience\")"
      ]
    },
    {
      "cell_type": "markdown",
      "metadata": {
        "id": "tBe83_NqoyGG"
      },
      "source": [
        "\\**Q7: Add your favorite single digit number to the end of the list using the appropriate list method.**"
      ]
    },
    {
      "cell_type": "code",
      "execution_count": 31,
      "metadata": {
        "id": "FnZmQ6OfoyGG"
      },
      "outputs": [],
      "source": [
        "my_list.append(7)"
      ]
    },
    {
      "cell_type": "markdown",
      "metadata": {
        "id": "ZWdkyfnooyGH"
      },
      "source": [
        "Let's see if the number shows up in the list."
      ]
    },
    {
      "cell_type": "code",
      "execution_count": 32,
      "metadata": {
        "colab": {
          "base_uri": "https://localhost:8080/"
        },
        "id": "5nDa4upBoyGH",
        "outputId": "4409adf4-e1df-4226-8b28-c64e3c327291"
      },
      "outputs": [
        {
          "output_type": "execute_result",
          "data": {
            "text/plain": [
              "['White', 0, True, 7]"
            ]
          },
          "metadata": {},
          "execution_count": 32
        }
      ],
      "source": [
        "my_list"
      ]
    },
    {
      "cell_type": "markdown",
      "metadata": {
        "id": "LwR_HWchoyGH"
      },
      "source": [
        "**Q8: Remove the first element of the list, using the appropriate list method.**\n",
        "\n",
        "*Hint*: Check out methods of list here: https://www.w3schools.com/python/python_ref_list.asp"
      ]
    },
    {
      "cell_type": "code",
      "execution_count": 33,
      "metadata": {
        "colab": {
          "base_uri": "https://localhost:8080/",
          "height": 35
        },
        "id": "Yl0iMAz4oyGH",
        "outputId": "5c0bd5d1-6010-492f-ce43-8e448acc5fa6"
      },
      "outputs": [
        {
          "output_type": "execute_result",
          "data": {
            "application/vnd.google.colaboratory.intrinsic+json": {
              "type": "string"
            },
            "text/plain": [
              "'White'"
            ]
          },
          "metadata": {},
          "execution_count": 33
        }
      ],
      "source": [
        "my_list.pop(0)"
      ]
    },
    {
      "cell_type": "code",
      "execution_count": 34,
      "metadata": {
        "colab": {
          "base_uri": "https://localhost:8080/"
        },
        "id": "4akb7b7hoyGI",
        "outputId": "2c80a2b2-a76c-45ca-b786-4dae3d9980bb"
      },
      "outputs": [
        {
          "output_type": "execute_result",
          "data": {
            "text/plain": [
              "[0, True, 7]"
            ]
          },
          "metadata": {},
          "execution_count": 34
        }
      ],
      "source": [
        "my_list"
      ]
    },
    {
      "cell_type": "markdown",
      "metadata": {
        "id": "L5TBWtLgoyGI"
      },
      "source": [
        "**Q9: Complete the `print` statement below to display the number of elements in `my_list`.**"
      ]
    },
    {
      "cell_type": "code",
      "execution_count": 35,
      "metadata": {
        "colab": {
          "base_uri": "https://localhost:8080/"
        },
        "id": "0cBfViQIoyGI",
        "outputId": "a39cad45-d21b-4568-ed51-9f248e3c8ad3"
      },
      "outputs": [
        {
          "output_type": "stream",
          "name": "stdout",
          "text": [
            "The list has 3 elements.\n"
          ]
        }
      ],
      "source": [
        "print(\"The list has {} elements.\".format(len(my_list)))"
      ]
    },
    {
      "cell_type": "markdown",
      "metadata": {
        "id": "4zPx24WpoyGI"
      },
      "source": [
        "Well done, you're making good progress! Save your work before continuing"
      ]
    },
    {
      "cell_type": "code",
      "execution_count": 36,
      "metadata": {
        "colab": {
          "base_uri": "https://localhost:8080/"
        },
        "id": "lYp4T_NUoyGI",
        "outputId": "580081de-8e6d-4623-bb93-281250303bfe"
      },
      "outputs": [
        {
          "output_type": "stream",
          "name": "stdout",
          "text": [
            "[jovian] Detected Colab notebook...\u001b[0m\n"
          ]
        },
        {
          "output_type": "stream",
          "name": "stderr",
          "text": [
            "\u001b[31m[jovian] Error: jovian.commit doesn't work on Colab unless the notebook was created and executed from Jovian.\n",
            "Make sure to run the first code cell at the top after executing from Jovian.\n",
            "Alternatively, you can download this notebook and upload it manually to Jovian.\n",
            "Learn more: https://jovian.ai/docs/user-guide/run.html#run-on-colab\u001b[0m\n"
          ]
        }
      ],
      "source": [
        "jovian.commit(project=project_name,environment=None)"
      ]
    },
    {
      "cell_type": "markdown",
      "metadata": {
        "id": "tDeHlqa0oyGI"
      },
      "source": [
        "## Problem 3 - Conditions and loops\n",
        "\n",
        "**Q10: Calculate and display the sum of all the numbers divisible by 7 between 18 and 534 i.e. `21+28+35+...+525+532`**.\n",
        "\n",
        "*Hint*: One way to do this is to loop over a `range` using `for` and use an `if` statement inside it."
      ]
    },
    {
      "cell_type": "code",
      "execution_count": 40,
      "metadata": {
        "id": "3r4iFvYXoyGI"
      },
      "outputs": [],
      "source": [
        "# store the final answer in this variable\n",
        "sum_of_numbers = 0\n",
        "\n",
        "# perform the calculation here\n",
        "for i in range(18, 534):\n",
        "  if i % 7 == 0:\n",
        "    sum_of_numbers = sum_of_numbers + i"
      ]
    },
    {
      "cell_type": "code",
      "execution_count": 38,
      "metadata": {
        "colab": {
          "base_uri": "https://localhost:8080/"
        },
        "id": "ZRNySa3AoyGI",
        "outputId": "1d0d2c55-0b01-43ad-9476-c7b69cac940c"
      },
      "outputs": [
        {
          "output_type": "stream",
          "name": "stdout",
          "text": [
            "The sum of all the numbers divisible by 7 between 18 and 534 is 20461\n"
          ]
        }
      ],
      "source": [
        "print('The sum of all the numbers divisible by 7 between 18 and 534 is', sum_of_numbers)"
      ]
    },
    {
      "cell_type": "markdown",
      "metadata": {
        "id": "yNVCVQOtoyGJ"
      },
      "source": [
        "If you are not able to figure out the solution to this problem, you can ask for hints on the community forum: https://jovian.ml/forum/t/assignment-1-python-practice/7761 . Remember to save your work before moving forward."
      ]
    },
    {
      "cell_type": "code",
      "execution_count": null,
      "metadata": {
        "id": "5ETxQU_8oyGJ"
      },
      "outputs": [],
      "source": [
        "jovian.commit(project=project_name,environment=None)"
      ]
    },
    {
      "cell_type": "markdown",
      "metadata": {
        "id": "-44Z6K_voyGJ"
      },
      "source": [
        "## Problem 4 - Flying to the Bahamas\n",
        "\n",
        "**Q11: A travel company wants to fly a plane to the Bahamas. Flying the plane costs 5000 dollars. So far, 29 people have signed up for the trip. If the company charges 200 dollars per ticket, what is the profit made by the company?**\n",
        "\n",
        "Fill in values or arithmetic expressions for the variables below."
      ]
    },
    {
      "cell_type": "code",
      "execution_count": 41,
      "metadata": {
        "id": "-wMKN44goyGJ"
      },
      "outputs": [],
      "source": [
        "cost_of_flying_plane = 5000"
      ]
    },
    {
      "cell_type": "code",
      "execution_count": 42,
      "metadata": {
        "id": "mNVRfcEnoyGJ"
      },
      "outputs": [],
      "source": [
        "number_of_passengers = 29"
      ]
    },
    {
      "cell_type": "code",
      "execution_count": 43,
      "metadata": {
        "id": "NLbfjJJooyGJ"
      },
      "outputs": [],
      "source": [
        "price_of_ticket = 200"
      ]
    },
    {
      "cell_type": "code",
      "execution_count": 46,
      "metadata": {
        "id": "Rav7xkYloyGJ"
      },
      "outputs": [],
      "source": [
        "profit = number_of_passengers * price_of_ticket - cost_of_flying_plane"
      ]
    },
    {
      "cell_type": "code",
      "execution_count": 47,
      "metadata": {
        "colab": {
          "base_uri": "https://localhost:8080/"
        },
        "id": "w_G9N8TBoyGJ",
        "outputId": "20d47a96-7399-48b5-9d86-2c63674814e2"
      },
      "outputs": [
        {
          "output_type": "stream",
          "name": "stdout",
          "text": [
            "The company makes of a profit of 800 dollars\n"
          ]
        }
      ],
      "source": [
        "print('The company makes of a profit of {} dollars'.format(profit))"
      ]
    },
    {
      "cell_type": "markdown",
      "metadata": {
        "id": "m1jn52G0oyGK"
      },
      "source": [
        "**Q11b (Optional): Out of the 29 people who took the flight, only 12 buy tickets to return from the Bahamas on the same plane. If the flying the plane back also costs 5000 dollars, and does the company make an overall profit or loss? The company charges the same fee of 200 dollars per ticket for the return flight.**\n",
        "\n",
        "Use an `if` statement to display the result."
      ]
    },
    {
      "cell_type": "code",
      "execution_count": 49,
      "metadata": {
        "id": "DB7vYPb0oyGK"
      },
      "outputs": [],
      "source": [
        "# this is optional\n",
        "profitReturn = 200 * 12  - 5000\n",
        "totalProfit = profitReturn + profit"
      ]
    },
    {
      "cell_type": "code",
      "execution_count": 50,
      "metadata": {
        "colab": {
          "base_uri": "https://localhost:8080/"
        },
        "id": "IhOlNQEBoyGK",
        "outputId": "83e70e3e-f162-4e75-ece4-7d9e8e806005"
      },
      "outputs": [
        {
          "output_type": "stream",
          "name": "stdout",
          "text": [
            "The company makes an overall loss of -1800 dollars\n"
          ]
        }
      ],
      "source": [
        "# this is optional\n",
        "if totalProfit > 0:\n",
        "    print(\"The company makes an overall profit of {} dollars\".format(totalProfit))\n",
        "else:\n",
        "    print(\"The company makes an overall loss of {} dollars\".format(totalProfit))"
      ]
    },
    {
      "cell_type": "markdown",
      "metadata": {
        "id": "KBLNEkg2oyGK"
      },
      "source": [
        "Great work so far! Want to take a break? Remember to save and upload your notebook to record your progress."
      ]
    },
    {
      "cell_type": "code",
      "execution_count": null,
      "metadata": {
        "id": "vM_YArcMoyGK"
      },
      "outputs": [],
      "source": [
        "jovian.commit(project=project_name,environment=None)"
      ]
    },
    {
      "cell_type": "markdown",
      "metadata": {
        "id": "MCekW_WWoyGK"
      },
      "source": [
        "## Problem 5 - Twitter Sentiment Analysis\n",
        "\n",
        "Are your ready to perform some *Data Analysis with Python*? In this problem, we'll analyze some fictional tweets and find out whether the overall sentiment of Twitter users is happy or sad. This is a simplified version of an important real world problem called *sentiment analysis*.\n",
        "\n",
        "Before we begin, we need a list of tweets to analyze. We're picking a small number of tweets here, but the exact same analysis can also be done for thousands, or even millions of tweets. The collection of data that we perform analysis on is often called a *dataset*."
      ]
    },
    {
      "cell_type": "code",
      "execution_count": 51,
      "metadata": {
        "id": "kqrZB49aoyGK"
      },
      "outputs": [],
      "source": [
        "tweets = [\n",
        "    \"Wow, what a great day today!! #sunshine\",\n",
        "    \"I feel sad about the things going on around us. #covid19\",\n",
        "    \"I'm really excited to learn Python with @JovianML #zerotopandas\",\n",
        "    \"This is a really nice song. #linkinpark\",\n",
        "    \"The python programming language is useful for data science\",\n",
        "    \"Why do bad things happen to me?\",\n",
        "    \"Apple announces the release of the new iPhone 12. Fans are excited.\",\n",
        "    \"Spent my day with family!! #happy\",\n",
        "    \"Check out my blog post on common string operations in Python. #zerotopandas\",\n",
        "    \"Freecodecamp has great coding tutorials. #skillup\"\n",
        "]"
      ]
    },
    {
      "cell_type": "markdown",
      "metadata": {
        "id": "OY9bu2xdoyGL"
      },
      "source": [
        "Let's begin by answering a very simple but important question about our dataset.\n",
        "\n",
        "**Q12: How many tweets does the dataset contain?**"
      ]
    },
    {
      "cell_type": "code",
      "execution_count": 52,
      "metadata": {
        "id": "VkahpsrKoyGL"
      },
      "outputs": [],
      "source": [
        "number_of_tweets = len(tweets)"
      ]
    },
    {
      "cell_type": "markdown",
      "metadata": {
        "id": "dc9a2idWoyGL"
      },
      "source": [
        "Let's create two lists of words: `happy_words` and `sad_words`. We will use these to check if a tweet is happy or sad."
      ]
    },
    {
      "cell_type": "code",
      "execution_count": 53,
      "metadata": {
        "id": "3tWPkROjoyGL"
      },
      "outputs": [],
      "source": [
        "happy_words = ['great', 'excited', 'happy', 'nice', 'wonderful', 'amazing', 'good', 'best']"
      ]
    },
    {
      "cell_type": "code",
      "execution_count": 54,
      "metadata": {
        "id": "xMJIfkDQoyGL"
      },
      "outputs": [],
      "source": [
        "sad_words = ['sad', 'bad', 'tragic', 'unhappy', 'worst']"
      ]
    },
    {
      "cell_type": "markdown",
      "metadata": {
        "id": "H5rKJgRKoyGL"
      },
      "source": [
        "To identify whether a tweet is happy, we can simply check if contains any of the words from `happy_words`. Here's an example:"
      ]
    },
    {
      "cell_type": "code",
      "execution_count": 55,
      "metadata": {
        "id": "P_jRN8zSoyGL"
      },
      "outputs": [],
      "source": [
        "sample_tweet = tweets[0]"
      ]
    },
    {
      "cell_type": "code",
      "execution_count": 56,
      "metadata": {
        "colab": {
          "base_uri": "https://localhost:8080/",
          "height": 35
        },
        "id": "7G2lbMaKoyGL",
        "outputId": "fa547bdb-e499-4671-eecf-6d3ef2b5b116"
      },
      "outputs": [
        {
          "output_type": "execute_result",
          "data": {
            "application/vnd.google.colaboratory.intrinsic+json": {
              "type": "string"
            },
            "text/plain": [
              "'Wow, what a great day today!! #sunshine'"
            ]
          },
          "metadata": {},
          "execution_count": 56
        }
      ],
      "source": [
        "sample_tweet"
      ]
    },
    {
      "cell_type": "code",
      "execution_count": 57,
      "metadata": {
        "id": "5vCWEMbcoyGM"
      },
      "outputs": [],
      "source": [
        "is_tweet_happy = False\n",
        "\n",
        "# Get a word from happy_words\n",
        "for word in happy_words:\n",
        "    # Check if the tweet contains the word\n",
        "    if word in sample_tweet:\n",
        "        # Word found! Mark the tweet as happy\n",
        "        is_tweet_happy = True"
      ]
    },
    {
      "cell_type": "markdown",
      "metadata": {
        "id": "l-Gizs19oyGM"
      },
      "source": [
        "Do you understand what we're doing above? \n",
        "\n",
        "> For each word in the list of happy words, we check if is a part of the selected tweet. If the word is indded a part of the tweet, we set the variable `is_tweet_happy` to `True`. "
      ]
    },
    {
      "cell_type": "code",
      "execution_count": 58,
      "metadata": {
        "colab": {
          "base_uri": "https://localhost:8080/"
        },
        "id": "swW5B7V3oyGM",
        "outputId": "5f90e6ed-5f9c-4476-d3bf-bbd2dbff188a"
      },
      "outputs": [
        {
          "output_type": "execute_result",
          "data": {
            "text/plain": [
              "True"
            ]
          },
          "metadata": {},
          "execution_count": 58
        }
      ],
      "source": [
        "is_tweet_happy"
      ]
    },
    {
      "cell_type": "markdown",
      "metadata": {
        "id": "dnh5ecP1oyGM"
      },
      "source": [
        "**Q13: Determine the number of tweets in the dataset that can be classified as happy.**\n",
        "\n",
        "*Hint*: You'll need to use a loop inside another loop to do this. Use the code from the example shown above."
      ]
    },
    {
      "cell_type": "code",
      "execution_count": 68,
      "metadata": {
        "id": "FpQ9i4bboyGM"
      },
      "outputs": [],
      "source": [
        "# store the final answer in this variable\n",
        "number_of_happy_tweets = 0\n",
        "\n",
        "# perform the calculations here\n",
        "# Get a word from happy_words\n",
        "for tweet in tweets:\n",
        "    for word in happy_words:\n",
        "    # Check if the tweet contains the word\n",
        "      if word in tweet:\n",
        "          # Word found! Mark the tweet as happy\n",
        "          number_of_happy_tweets = number_of_happy_tweets + 1"
      ]
    },
    {
      "cell_type": "code",
      "execution_count": 69,
      "metadata": {
        "colab": {
          "base_uri": "https://localhost:8080/"
        },
        "id": "DsYiEkXboyGM",
        "outputId": "788ef8c0-f4ab-4a73-da92-b76335ce89af"
      },
      "outputs": [
        {
          "output_type": "stream",
          "name": "stdout",
          "text": [
            "Number of happy tweets: 6\n"
          ]
        }
      ],
      "source": [
        "print(\"Number of happy tweets:\", number_of_happy_tweets)"
      ]
    },
    {
      "cell_type": "markdown",
      "metadata": {
        "id": "Epd3xOsgoyGM"
      },
      "source": [
        "If you are not able to figure out the solution to this problem, you can ask for hints on the community forum: https://jovian.ml/forum/t/assignment-1-python-practice/7761 . Also try adding `print` statements inside your loops to inspect variables and make sure your logic is correct."
      ]
    },
    {
      "cell_type": "markdown",
      "metadata": {
        "id": "WYI19tnHoyGM"
      },
      "source": [
        "**Q14: What fraction of the total number of tweets are happy?**\n",
        "\n",
        "For example, if 2 out of 10 tweets are happy, then the answer is `2/10` i.e. `0.2`."
      ]
    },
    {
      "cell_type": "code",
      "execution_count": 61,
      "metadata": {
        "id": "8t9FHYeZoyGN"
      },
      "outputs": [],
      "source": [
        "happy_fraction = number_of_happy_tweets / len(tweets)"
      ]
    },
    {
      "cell_type": "code",
      "execution_count": 62,
      "metadata": {
        "colab": {
          "base_uri": "https://localhost:8080/"
        },
        "id": "RxMun-kRoyGN",
        "outputId": "fbc496b2-1968-4641-a3da-a5edd775b795"
      },
      "outputs": [
        {
          "output_type": "stream",
          "name": "stdout",
          "text": [
            "The fraction of happy tweets is: 0.6\n"
          ]
        }
      ],
      "source": [
        "print(\"The fraction of happy tweets is:\", happy_fraction)"
      ]
    },
    {
      "cell_type": "markdown",
      "metadata": {
        "id": "23u1VZgOoyGN"
      },
      "source": [
        "To identify whether a tweet is sad, we can simply check if contains any of the words from `sad_words`.\n",
        "\n",
        "**Q15: Determine the number of tweets in the dataset that can be classified as sad.**"
      ]
    },
    {
      "cell_type": "code",
      "execution_count": 64,
      "metadata": {
        "id": "0M-44sPhoyGN"
      },
      "outputs": [],
      "source": [
        "# store the final answer in this variable\n",
        "number_of_sad_tweets = 0\n",
        "\n",
        "# perform the calculations here\n",
        "for tweet in tweets:\n",
        "    for word in sad_words:\n",
        "    # Check if the tweet contains the word\n",
        "      if word in tweet:\n",
        "          # Word found! Mark the tweet as happy\n",
        "          number_of_sad_tweets = number_of_sad_tweets + 1"
      ]
    },
    {
      "cell_type": "code",
      "execution_count": 65,
      "metadata": {
        "colab": {
          "base_uri": "https://localhost:8080/"
        },
        "id": "kmN3tUB-oyGN",
        "outputId": "5e2eaece-13e0-400d-b68d-6be77442f2cf"
      },
      "outputs": [
        {
          "output_type": "stream",
          "name": "stdout",
          "text": [
            "Number of sad tweets: 2\n"
          ]
        }
      ],
      "source": [
        "print(\"Number of sad tweets:\", number_of_sad_tweets)"
      ]
    },
    {
      "cell_type": "markdown",
      "metadata": {
        "id": "_vhOhJ7goyGN"
      },
      "source": [
        "**Q16: What fraction of the total number of tweets are sad?**"
      ]
    },
    {
      "cell_type": "code",
      "execution_count": 66,
      "metadata": {
        "id": "MxnD75L-oyGN"
      },
      "outputs": [],
      "source": [
        "sad_fraction = number_of_sad_tweets / len(tweets)"
      ]
    },
    {
      "cell_type": "code",
      "execution_count": 67,
      "metadata": {
        "colab": {
          "base_uri": "https://localhost:8080/"
        },
        "id": "6zKPDhrmoyGN",
        "outputId": "577023bc-111a-436e-8f66-4285ff6ef03e"
      },
      "outputs": [
        {
          "output_type": "stream",
          "name": "stdout",
          "text": [
            "The fraction of sad tweets is: 0.2\n"
          ]
        }
      ],
      "source": [
        "print(\"The fraction of sad tweets is:\", sad_fraction)"
      ]
    },
    {
      "cell_type": "markdown",
      "metadata": {
        "id": "QVjip3vYoyGN"
      },
      "source": [
        "The rest of this problem is optional. Let's save your work before continuing."
      ]
    },
    {
      "cell_type": "code",
      "execution_count": null,
      "metadata": {
        "id": "BZ1nGsBOoyGO"
      },
      "outputs": [],
      "source": [
        "jovian.commit(project=project_name,environment=None)"
      ]
    },
    {
      "cell_type": "markdown",
      "metadata": {
        "id": "XCPSbXZ2oyGO"
      },
      "source": [
        "Great work, even with some basic analysis, we already know a lot about the sentiment of the tweets given to us. Let us now define a metric called \"sentiment score\", to summarize the overall sentiment of the tweets.\n",
        "\n",
        "**Q16b (Optional): Calculate the sentiment score, which is defined as the difference betweek the fraction of happy tweets and the fraction of sad tweets.**"
      ]
    },
    {
      "cell_type": "code",
      "execution_count": 72,
      "metadata": {
        "id": "m4kSRWw4oyGO"
      },
      "outputs": [],
      "source": [
        "sentiment_score = happy_fraction - sad_fraction"
      ]
    },
    {
      "cell_type": "code",
      "execution_count": 73,
      "metadata": {
        "colab": {
          "base_uri": "https://localhost:8080/"
        },
        "id": "ob59Ct9KoyGO",
        "outputId": "cea90c78-2157-480b-ed91-67d983bed131"
      },
      "outputs": [
        {
          "output_type": "stream",
          "name": "stdout",
          "text": [
            "The sentiment score for the given tweets is 0.39999999999999997\n"
          ]
        }
      ],
      "source": [
        "print(\"The sentiment score for the given tweets is\", sentiment_score)"
      ]
    },
    {
      "cell_type": "markdown",
      "metadata": {
        "id": "bj574ZqIoyGO"
      },
      "source": [
        "In a real world scenario, we could calculate & record the sentiment score for all the tweets sent out every day. This information can be used to plot a graph and study the trends in the changing sentiment of the world. The following graph was creating using the Python data visualization library `matplotlib`, which we'll cover later in the course.\n",
        "\n",
        "<img src=\"https://i.imgur.com/6CCIwCb.png\" style=\"width:400px\">\n",
        "\n",
        "What does the sentiment score represent? Based on the value of the sentiment score, can you identify if the overall sentiment of the dataset is happy or sad?\n",
        "\n",
        "**Q16c (Optional): Display whether the overall sentiment of the given dataset of tweets is happy or sad, using the sentiment score.**"
      ]
    },
    {
      "cell_type": "code",
      "execution_count": 74,
      "metadata": {
        "colab": {
          "base_uri": "https://localhost:8080/"
        },
        "id": "L96EqUVxoyGO",
        "outputId": "107fb01b-1efa-457d-8567-749282b03681"
      },
      "outputs": [
        {
          "output_type": "stream",
          "name": "stdout",
          "text": [
            "The overall sentiment is happy\n"
          ]
        }
      ],
      "source": [
        "if sentiment_score > 0:\n",
        "    print(\"The overall sentiment is happy\")\n",
        "else:\n",
        "    print(\"The overall sentiment is sad\")"
      ]
    },
    {
      "cell_type": "markdown",
      "metadata": {
        "id": "TcynrKGHoyGO"
      },
      "source": [
        "Finally, it's also important to track how many tweets are neutral i.e. neither happy nor sad. If a large fraction of tweets are marked neutral, maybe we need to improve our lists of happy and sad words. \n",
        "\n",
        "**Q16d (Optional): What is the fraction of tweets that are neutral i.e. neither happy nor sad.**"
      ]
    },
    {
      "cell_type": "code",
      "execution_count": 75,
      "metadata": {
        "id": "UYNJ2essoyGP"
      },
      "outputs": [],
      "source": [
        "# store the final answer in this variable\n",
        "number_of_neutral_tweets = 0\n",
        "\n",
        "# perform the calculation here\n",
        "number_of_neutral_tweets = len(tweets) - number_of_happy_tweets - number_of_sad_tweets"
      ]
    },
    {
      "cell_type": "code",
      "execution_count": 76,
      "metadata": {
        "id": "4n6f7QpWoyGP"
      },
      "outputs": [],
      "source": [
        "neutral_fraction = number_of_neutral_tweets / len(tweets)"
      ]
    },
    {
      "cell_type": "code",
      "execution_count": 77,
      "metadata": {
        "colab": {
          "base_uri": "https://localhost:8080/"
        },
        "id": "uLw0BrvzoyGP",
        "outputId": "ef4ed99b-c676-40fa-d30e-ccdb57823227"
      },
      "outputs": [
        {
          "output_type": "stream",
          "name": "stdout",
          "text": [
            "The fraction of neutral tweets is 0.2\n"
          ]
        }
      ],
      "source": [
        "print('The fraction of neutral tweets is', neutral_fraction)"
      ]
    },
    {
      "cell_type": "markdown",
      "metadata": {
        "id": "qoHG35JjoyGP"
      },
      "source": [
        "Ponder upon these questions and try some experiments to hone your skills further:\n",
        "\n",
        "* What are the limitations of our approach? When will it go wrong or give incorrect results?\n",
        "* How can we improve our approach to address the limitations?\n",
        "* What are some other questions you would like to ask, given a list of tweets?\n",
        "* Try collecting some real tweets from your Twitter timeline and repeat this analysis. Do the results make sense?\n",
        "\n",
        "**IMPORTANT NOTE**: If you want to try out these experiments, please create a new notebook using the \"New Notebook\" button on your Jovian.ml profile, to avoid making unintended changes to your assignment submission notebook."
      ]
    },
    {
      "cell_type": "markdown",
      "metadata": {
        "id": "jgxYIo7PoyGP"
      },
      "source": [
        "## Submission \n",
        "\n",
        "Congratulations on making it this far! You've reached the end of this assignment, and you just completed your first data analysis problem. It's time to record one final version of your notebook for submission.\n",
        "\n",
        "Make a submission here by filling the submission form: https://jovian.ml/learn/data-analysis-with-python-zero-to-pandas/assignment/assignment-1-python-basics-practice"
      ]
    },
    {
      "cell_type": "code",
      "execution_count": null,
      "metadata": {
        "scrolled": false,
        "id": "YG0zrLT9oyGP"
      },
      "outputs": [],
      "source": [
        "jovian.commit(project=project_name,environment=None)"
      ]
    }
  ],
  "metadata": {
    "kernelspec": {
      "display_name": "Python 3",
      "language": "python",
      "name": "python3"
    },
    "language_info": {
      "codemirror_mode": {
        "name": "ipython",
        "version": 3
      },
      "file_extension": ".py",
      "mimetype": "text/x-python",
      "name": "python",
      "nbconvert_exporter": "python",
      "pygments_lexer": "ipython3",
      "version": "3.6.13"
    },
    "colab": {
      "name": "python-practice-assignment.ipynb",
      "provenance": [],
      "collapsed_sections": [],
      "include_colab_link": true
    }
  },
  "nbformat": 4,
  "nbformat_minor": 0
}